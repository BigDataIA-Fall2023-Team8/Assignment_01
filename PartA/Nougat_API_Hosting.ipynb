{
  "nbformat": 4,
  "nbformat_minor": 0,
  "metadata": {
    "colab": {
      "provenance": [],
      "gpuType": "T4"
    },
    "kernelspec": {
      "name": "python3",
      "display_name": "Python 3"
    },
    "language_info": {
      "name": "python"
    },
    "accelerator": "GPU"
  },
  "cells": [
    {
      "cell_type": "code",
      "execution_count": null,
      "metadata": {
        "colab": {
          "base_uri": "https://localhost:8080/"
        },
        "id": "iBWwqRnEbpUE",
        "outputId": "d61ff9e1-7e3e-4c43-bb41-316574f43b8b"
      },
      "outputs": [
        {
          "output_type": "stream",
          "name": "stdout",
          "text": [
            "\u001b[?25l     \u001b[90m━━━━━━━━━━━━━━━━━━━━━━━━━━━━━━━━━━━━━━━━\u001b[0m \u001b[32m0.0/82.5 kB\u001b[0m \u001b[31m?\u001b[0m eta \u001b[36m-:--:--\u001b[0m\r\u001b[2K     \u001b[90m━━━━━━━━━━━━━━━━━━━━━━━━━━━━━━━━━━━━━━━━\u001b[0m \u001b[32m82.5/82.5 kB\u001b[0m \u001b[31m2.8 MB/s\u001b[0m eta \u001b[36m0:00:00\u001b[0m\n",
            "\u001b[?25h  Preparing metadata (setup.py) ... \u001b[?25l\u001b[?25hdone\n",
            "\u001b[2K     \u001b[90m━━━━━━━━━━━━━━━━━━━━━━━━━━━━━━━━━━━━━━━━\u001b[0m \u001b[32m7.7/7.7 MB\u001b[0m \u001b[31m75.7 MB/s\u001b[0m eta \u001b[36m0:00:00\u001b[0m\n",
            "\u001b[2K     \u001b[90m━━━━━━━━━━━━━━━━━━━━━━━━━━━━━━━━━━━━━━\u001b[0m \u001b[32m431.5/431.5 kB\u001b[0m \u001b[31m43.9 MB/s\u001b[0m eta \u001b[36m0:00:00\u001b[0m\n",
            "\u001b[2K     \u001b[90m━━━━━━━━━━━━━━━━━━━━━━━━━━━━━━━━━━━━━━\u001b[0m \u001b[32m138.7/138.7 kB\u001b[0m \u001b[31m19.0 MB/s\u001b[0m eta \u001b[36m0:00:00\u001b[0m\n",
            "\u001b[2K     \u001b[90m━━━━━━━━━━━━━━━━━━━━━━━━━━━━━━━━━━━━━━\u001b[0m \u001b[32m519.6/519.6 kB\u001b[0m \u001b[31m50.0 MB/s\u001b[0m eta \u001b[36m0:00:00\u001b[0m\n",
            "\u001b[2K     \u001b[90m━━━━━━━━━━━━━━━━━━━━━━━━━━━━━━━━━━━━━━━━\u001b[0m \u001b[32m1.9/1.9 MB\u001b[0m \u001b[31m92.8 MB/s\u001b[0m eta \u001b[36m0:00:00\u001b[0m\n",
            "\u001b[2K     \u001b[90m━━━━━━━━━━━━━━━━━━━━━━━━━━━━━━━━━━━━━━━━\u001b[0m \u001b[32m1.3/1.3 MB\u001b[0m \u001b[31m83.5 MB/s\u001b[0m eta \u001b[36m0:00:00\u001b[0m\n",
            "\u001b[2K     \u001b[90m━━━━━━━━━━━━━━━━━━━━━━━━━━━━━━━━━━━━━━\u001b[0m \u001b[32m276.3/276.3 kB\u001b[0m \u001b[31m33.9 MB/s\u001b[0m eta \u001b[36m0:00:00\u001b[0m\n",
            "\u001b[2K     \u001b[90m━━━━━━━━━━━━━━━━━━━━━━━━━━━━━━━━━━━━━━━━\u001b[0m \u001b[32m3.0/3.0 MB\u001b[0m \u001b[31m111.3 MB/s\u001b[0m eta \u001b[36m0:00:00\u001b[0m\n",
            "\u001b[2K     \u001b[90m━━━━━━━━━━━━━━━━━━━━━━━━━━━━━━━━━━━━━━\u001b[0m \u001b[32m154.7/154.7 kB\u001b[0m \u001b[31m20.8 MB/s\u001b[0m eta \u001b[36m0:00:00\u001b[0m\n",
            "\u001b[2K     \u001b[90m━━━━━━━━━━━━━━━━━━━━━━━━━━━━━━━━━━━━━━━━\u001b[0m \u001b[32m66.4/66.4 kB\u001b[0m \u001b[31m8.0 MB/s\u001b[0m eta \u001b[36m0:00:00\u001b[0m\n",
            "\u001b[2K     \u001b[90m━━━━━━━━━━━━━━━━━━━━━━━━━━━━━━━━━━━━━━━━\u001b[0m \u001b[32m71.3/71.3 kB\u001b[0m \u001b[31m10.0 MB/s\u001b[0m eta \u001b[36m0:00:00\u001b[0m\n",
            "\u001b[2K     \u001b[90m━━━━━━━━━━━━━━━━━━━━━━━━━━━━━━━━━━━━━━━━\u001b[0m \u001b[32m66.3/66.3 kB\u001b[0m \u001b[31m8.1 MB/s\u001b[0m eta \u001b[36m0:00:00\u001b[0m\n",
            "\u001b[2K     \u001b[90m━━━━━━━━━━━━━━━━━━━━━━━━━━━━━━━━━━━━━━\u001b[0m \u001b[32m693.9/693.9 kB\u001b[0m \u001b[31m63.1 MB/s\u001b[0m eta \u001b[36m0:00:00\u001b[0m\n",
            "\u001b[2K     \u001b[90m━━━━━━━━━━━━━━━━━━━━━━━━━━━━━━━━━━━━━━━━\u001b[0m \u001b[32m45.7/45.7 kB\u001b[0m \u001b[31m6.3 MB/s\u001b[0m eta \u001b[36m0:00:00\u001b[0m\n",
            "\u001b[2K     \u001b[90m━━━━━━━━━━━━━━━━━━━━━━━━━━━━━━━━━━━━━━━━\u001b[0m \u001b[32m69.9/69.9 kB\u001b[0m \u001b[31m9.1 MB/s\u001b[0m eta \u001b[36m0:00:00\u001b[0m\n",
            "\u001b[2K     \u001b[90m━━━━━━━━━━━━━━━━━━━━━━━━━━━━━━━━━━━━━━\u001b[0m \u001b[32m805.2/805.2 kB\u001b[0m \u001b[31m68.1 MB/s\u001b[0m eta \u001b[36m0:00:00\u001b[0m\n",
            "\u001b[2K     \u001b[90m━━━━━━━━━━━━━━━━━━━━━━━━━━━━━━━━━━━━━━━━\u001b[0m \u001b[32m59.5/59.5 kB\u001b[0m \u001b[31m8.8 MB/s\u001b[0m eta \u001b[36m0:00:00\u001b[0m\n",
            "\u001b[2K     \u001b[90m━━━━━━━━━━━━━━━━━━━━━━━━━━━━━━━━━━━━━━\u001b[0m \u001b[32m129.9/129.9 kB\u001b[0m \u001b[31m18.0 MB/s\u001b[0m eta \u001b[36m0:00:00\u001b[0m\n",
            "\u001b[2K     \u001b[90m━━━━━━━━━━━━━━━━━━━━━━━━━━━━━━━━━━━━━━\u001b[0m \u001b[32m727.7/727.7 kB\u001b[0m \u001b[31m69.4 MB/s\u001b[0m eta \u001b[36m0:00:00\u001b[0m\n",
            "\u001b[2K     \u001b[90m━━━━━━━━━━━━━━━━━━━━━━━━━━━━━━━━━━━━━━\u001b[0m \u001b[32m112.6/112.6 kB\u001b[0m \u001b[31m16.1 MB/s\u001b[0m eta \u001b[36m0:00:00\u001b[0m\n",
            "\u001b[2K     \u001b[90m━━━━━━━━━━━━━━━━━━━━━━━━━━━━━━━━━━━━━━\u001b[0m \u001b[32m295.0/295.0 kB\u001b[0m \u001b[31m37.3 MB/s\u001b[0m eta \u001b[36m0:00:00\u001b[0m\n",
            "\u001b[2K     \u001b[90m━━━━━━━━━━━━━━━━━━━━━━━━━━━━━━━━━━━━━━━━\u001b[0m \u001b[32m3.8/3.8 MB\u001b[0m \u001b[31m96.1 MB/s\u001b[0m eta \u001b[36m0:00:00\u001b[0m\n",
            "\u001b[2K     \u001b[90m━━━━━━━━━━━━━━━━━━━━━━━━━━━━━━━━━━━━━━━━\u001b[0m \u001b[32m1.3/1.3 MB\u001b[0m \u001b[31m63.9 MB/s\u001b[0m eta \u001b[36m0:00:00\u001b[0m\n",
            "\u001b[2K     \u001b[90m━━━━━━━━━━━━━━━━━━━━━━━━━━━━━━━━━━━━━━\u001b[0m \u001b[32m115.3/115.3 kB\u001b[0m \u001b[31m10.0 MB/s\u001b[0m eta \u001b[36m0:00:00\u001b[0m\n",
            "\u001b[2K     \u001b[90m━━━━━━━━━━━━━━━━━━━━━━━━━━━━━━━━━━━━━━\u001b[0m \u001b[32m194.1/194.1 kB\u001b[0m \u001b[31m22.6 MB/s\u001b[0m eta \u001b[36m0:00:00\u001b[0m\n",
            "\u001b[2K     \u001b[90m━━━━━━━━━━━━━━━━━━━━━━━━━━━━━━━━━━━━━━\u001b[0m \u001b[32m134.8/134.8 kB\u001b[0m \u001b[31m17.9 MB/s\u001b[0m eta \u001b[36m0:00:00\u001b[0m\n",
            "\u001b[2K     \u001b[90m━━━━━━━━━━━━━━━━━━━━━━━━━━━━━━━━━━━━━━\u001b[0m \u001b[32m172.9/172.9 kB\u001b[0m \u001b[31m18.4 MB/s\u001b[0m eta \u001b[36m0:00:00\u001b[0m\n",
            "\u001b[2K     \u001b[90m━━━━━━━━━━━━━━━━━━━━━━━━━━━━━━━━━━━━━━━━\u001b[0m \u001b[32m3.1/3.1 MB\u001b[0m \u001b[31m102.1 MB/s\u001b[0m eta \u001b[36m0:00:00\u001b[0m\n",
            "\u001b[2K     \u001b[90m━━━━━━━━━━━━━━━━━━━━━━━━━━━━━━━━━━━━━━━━\u001b[0m \u001b[32m67.0/67.0 kB\u001b[0m \u001b[31m9.5 MB/s\u001b[0m eta \u001b[36m0:00:00\u001b[0m\n",
            "\u001b[2K     \u001b[90m━━━━━━━━━━━━━━━━━━━━━━━━━━━━━━━━━━━━━━━━\u001b[0m \u001b[32m58.4/58.4 kB\u001b[0m \u001b[31m8.2 MB/s\u001b[0m eta \u001b[36m0:00:00\u001b[0m\n",
            "\u001b[2K     \u001b[90m━━━━━━━━━━━━━━━━━━━━━━━━━━━━━━━━━━━━━━\u001b[0m \u001b[32m268.8/268.8 kB\u001b[0m \u001b[31m33.1 MB/s\u001b[0m eta \u001b[36m0:00:00\u001b[0m\n",
            "\u001b[2K     \u001b[90m━━━━━━━━━━━━━━━━━━━━━━━━━━━━━━━━━━━━━━━━\u001b[0m \u001b[32m58.3/58.3 kB\u001b[0m \u001b[31m8.6 MB/s\u001b[0m eta \u001b[36m0:00:00\u001b[0m\n",
            "\u001b[2K     \u001b[90m━━━━━━━━━━━━━━━━━━━━━━━━━━━━━━━━━━━━━━\u001b[0m \u001b[32m526.7/526.7 kB\u001b[0m \u001b[31m56.4 MB/s\u001b[0m eta \u001b[36m0:00:00\u001b[0m\n",
            "\u001b[?25h  Building wheel for api (setup.py) ... \u001b[?25l\u001b[?25hdone\n"
          ]
        }
      ],
      "source": [
        "%pip install -q nougat-ocr api"
      ]
    },
    {
      "cell_type": "code",
      "source": [
        "%pip install -q pyngrok"
      ],
      "metadata": {
        "colab": {
          "base_uri": "https://localhost:8080/"
        },
        "id": "M2maKE6A5Bln",
        "outputId": "827a289f-1966-4d47-8fdf-84ad4b3f7040"
      },
      "execution_count": null,
      "outputs": [
        {
          "output_type": "stream",
          "name": "stdout",
          "text": [
            "\u001b[?25l     \u001b[90m━━━━━━━━━━━━━━━━━━━━━━━━━━━━━━━━━━━━━━━━\u001b[0m \u001b[32m0.0/718.7 kB\u001b[0m \u001b[31m?\u001b[0m eta \u001b[36m-:--:--\u001b[0m\r\u001b[2K     \u001b[91m━━━━━━━━━━\u001b[0m\u001b[91m╸\u001b[0m\u001b[90m━━━━━━━━━━━━━━━━━━━━━━━━━━━━\u001b[0m \u001b[32m194.6/718.7 kB\u001b[0m \u001b[31m6.2 MB/s\u001b[0m eta \u001b[36m0:00:01\u001b[0m\r\u001b[2K     \u001b[91m━━━━━━━━━━━━━━━━━━━━━━━━━━━━━━━━\u001b[0m\u001b[91m╸\u001b[0m\u001b[90m━━━━━━\u001b[0m \u001b[32m604.2/718.7 kB\u001b[0m \u001b[31m9.2 MB/s\u001b[0m eta \u001b[36m0:00:01\u001b[0m\r\u001b[2K     \u001b[90m━━━━━━━━━━━━━━━━━━━━━━━━━━━━━━━━━━━━━━━\u001b[0m \u001b[32m718.7/718.7 kB\u001b[0m \u001b[31m8.5 MB/s\u001b[0m eta \u001b[36m0:00:00\u001b[0m\n",
            "\u001b[?25h  Preparing metadata (setup.py) ... \u001b[?25l\u001b[?25hdone\n",
            "  Building wheel for pyngrok (setup.py) ... \u001b[?25l\u001b[?25hdone\n"
          ]
        }
      ]
    },
    {
      "cell_type": "code",
      "source": [
        "!nougat_api &>/content/logs.txt &"
      ],
      "metadata": {
        "id": "PWBDlnoPb24s"
      },
      "execution_count": null,
      "outputs": []
    },
    {
      "cell_type": "code",
      "source": [
        "%%bash\n",
        "\n",
        "cat /content/logs.txt"
      ],
      "metadata": {
        "colab": {
          "base_uri": "https://localhost:8080/"
        },
        "id": "TacLw2BBb_WB",
        "outputId": "b982ba6d-488a-44da-d0db-9b14a5064023"
      },
      "execution_count": null,
      "outputs": [
        {
          "output_type": "stream",
          "name": "stdout",
          "text": [
            "downloading nougat checkpoint version 0.1.0-small to path /root/.cache/torch/hub/nougat-0.1.0-small\n",
            "\rconfig.json:   0%|          | 0.00/557 [00:00<?, ?b/s]\rconfig.json: 100%|██████████| 557/557 [00:00<00:00, 2.53Mb/s]\n",
            "\rpytorch_model.bin:   0%|          | 0.00/956M [00:00<?, ?b/s]\rpytorch_model.bin:   0%|          | 768k/956M [00:00<02:10, 7.67Mb/s]\rpytorch_model.bin:   0%|          | 2.56M/956M [00:00<01:10, 14.2Mb/s]\rpytorch_model.bin:   1%|          | 6.00M/956M [00:00<00:41, 24.1Mb/s]\rpytorch_model.bin:   1%|          | 11.1M/956M [00:00<00:28, 35.3Mb/s]\rpytorch_model.bin:   2%|▏         | 22.4M/956M [00:00<00:15, 65.0Mb/s]\rpytorch_model.bin:   4%|▍         | 41.1M/956M [00:00<00:09, 104Mb/s] \rpytorch_model.bin:   5%|▌         | 50.8M/956M [00:00<00:09, 101Mb/s]\rpytorch_model.bin:   6%|▋         | 60.2M/956M [00:00<00:10, 90.5Mb/s]\rpytorch_model.bin:   7%|▋         | 68.9M/956M [00:00<00:10, 84.7Mb/s]\rpytorch_model.bin:   8%|▊         | 77.1M/956M [00:01<00:11, 81.0Mb/s]\rpytorch_model.bin:   9%|▉         | 84.9M/956M [00:01<00:12, 75.3Mb/s]\rpytorch_model.bin:  10%|▉         | 93.1M/956M [00:01<00:11, 78.0Mb/s]\rpytorch_model.bin:  11%|█         | 101M/956M [00:01<00:11, 76.3Mb/s] \rpytorch_model.bin:  11%|█▏        | 108M/956M [00:01<00:11, 75.0Mb/s]\rpytorch_model.bin:  12%|█▏        | 115M/956M [00:01<00:11, 74.1Mb/s]\rpytorch_model.bin:  13%|█▎        | 122M/956M [00:01<00:11, 74.3Mb/s]\rpytorch_model.bin:  14%|█▎        | 130M/956M [00:01<00:11, 74.0Mb/s]\rpytorch_model.bin:  14%|█▍        | 137M/956M [00:01<00:11, 73.5Mb/s]\rpytorch_model.bin:  15%|█▌        | 144M/956M [00:02<00:11, 72.7Mb/s]\rpytorch_model.bin:  16%|█▌        | 151M/956M [00:02<00:11, 73.3Mb/s]\rpytorch_model.bin:  17%|█▋        | 158M/956M [00:02<00:11, 73.3Mb/s]\rpytorch_model.bin:  17%|█▋        | 165M/956M [00:02<00:11, 73.0Mb/s]\rpytorch_model.bin:  18%|█▊        | 172M/956M [00:02<00:11, 73.0Mb/s]\rpytorch_model.bin:  19%|█▊        | 179M/956M [00:02<00:11, 72.8Mb/s]\rpytorch_model.bin:  19%|█▉        | 186M/956M [00:02<00:11, 72.9Mb/s]\rpytorch_model.bin:  20%|██        | 193M/956M [00:02<00:10, 72.9Mb/s]\rpytorch_model.bin:  21%|██        | 200M/956M [00:02<00:10, 72.8Mb/s]\rpytorch_model.bin:  22%|██▏       | 207M/956M [00:02<00:10, 72.9Mb/s]\rpytorch_model.bin:  22%|██▏       | 214M/956M [00:03<00:10, 72.6Mb/s]\rpytorch_model.bin:  23%|██▎       | 221M/956M [00:03<00:10, 72.8Mb/s]\rpytorch_model.bin:  24%|██▍       | 228M/956M [00:03<00:10, 72.8Mb/s]\rpytorch_model.bin:  25%|██▍       | 235M/956M [00:03<00:10, 72.9Mb/s]\rpytorch_model.bin:  25%|██▌       | 242M/956M [00:03<00:10, 72.6Mb/s]\rpytorch_model.bin:  26%|██▌       | 249M/956M [00:03<00:10, 73.0Mb/s]\rpytorch_model.bin:  27%|██▋       | 256M/956M [00:03<00:10, 72.4Mb/s]\rpytorch_model.bin:  28%|██▊       | 263M/956M [00:03<00:09, 73.0Mb/s]\rpytorch_model.bin:  28%|██▊       | 270M/956M [00:03<00:09, 72.7Mb/s]\rpytorch_model.bin:  29%|██▉       | 277M/956M [00:03<00:09, 73.0Mb/s]\rpytorch_model.bin:  30%|██▉       | 284M/956M [00:04<00:09, 72.9Mb/s]\rpytorch_model.bin:  30%|███       | 291M/956M [00:04<00:09, 72.9Mb/s]\rpytorch_model.bin:  31%|███       | 298M/956M [00:04<00:09, 72.8Mb/s]\rpytorch_model.bin:  32%|███▏      | 305M/956M [00:04<00:09, 72.9Mb/s]\rpytorch_model.bin:  33%|███▎      | 312M/956M [00:04<00:09, 73.0Mb/s]\rpytorch_model.bin:  33%|███▎      | 319M/956M [00:04<00:09, 73.0Mb/s]\rpytorch_model.bin:  34%|███▍      | 326M/956M [00:04<00:09, 72.5Mb/s]\rpytorch_model.bin:  35%|███▍      | 334M/956M [00:04<00:08, 72.9Mb/s]\rpytorch_model.bin:  36%|███▌      | 340M/956M [00:04<00:08, 72.9Mb/s]\rpytorch_model.bin:  36%|███▋      | 348M/956M [00:05<00:08, 72.9Mb/s]\rpytorch_model.bin:  37%|███▋      | 354M/956M [00:05<00:08, 72.5Mb/s]\rpytorch_model.bin:  38%|███▊      | 362M/956M [00:05<00:08, 72.9Mb/s]\rpytorch_model.bin:  39%|███▊      | 369M/956M [00:05<00:08, 72.9Mb/s]\rpytorch_model.bin:  39%|███▉      | 376M/956M [00:05<00:08, 72.6Mb/s]\rpytorch_model.bin:  40%|████      | 382M/956M [00:05<00:08, 72.0Mb/s]\rpytorch_model.bin:  41%|████      | 390M/956M [00:05<00:08, 72.7Mb/s]\rpytorch_model.bin:  41%|████▏     | 397M/956M [00:05<00:08, 71.1Mb/s]\rpytorch_model.bin:  42%|████▏     | 404M/956M [00:05<00:07, 73.7Mb/s]\rpytorch_model.bin:  43%|████▎     | 411M/956M [00:05<00:07, 72.6Mb/s]\rpytorch_model.bin:  44%|████▍     | 418M/956M [00:06<00:07, 72.7Mb/s]\rpytorch_model.bin:  44%|████▍     | 426M/956M [00:06<00:07, 73.2Mb/s]\rpytorch_model.bin:  45%|████▌     | 433M/956M [00:06<00:07, 73.2Mb/s]\rpytorch_model.bin:  46%|████▌     | 440M/956M [00:06<00:07, 72.6Mb/s]\rpytorch_model.bin:  47%|████▋     | 446M/956M [00:06<00:07, 72.5Mb/s]\rpytorch_model.bin:  47%|████▋     | 454M/956M [00:06<00:07, 73.1Mb/s]\rpytorch_model.bin:  48%|████▊     | 461M/956M [00:06<00:07, 72.9Mb/s]\rpytorch_model.bin:  49%|████▉     | 468M/956M [00:06<00:07, 72.4Mb/s]\rpytorch_model.bin:  50%|████▉     | 475M/956M [00:06<00:06, 72.6Mb/s]\rpytorch_model.bin:  50%|█████     | 482M/956M [00:06<00:06, 73.3Mb/s]\rpytorch_model.bin:  51%|█████     | 489M/956M [00:07<00:06, 73.1Mb/s]\rpytorch_model.bin:  52%|█████▏    | 496M/956M [00:07<00:06, 72.6Mb/s]\rpytorch_model.bin:  53%|█████▎    | 503M/956M [00:07<00:06, 72.5Mb/s]\rpytorch_model.bin:  53%|█████▎    | 510M/956M [00:07<00:06, 73.0Mb/s]\rpytorch_model.bin:  54%|█████▍    | 517M/956M [00:07<00:06, 73.0Mb/s]\rpytorch_model.bin:  55%|█████▍    | 524M/956M [00:07<00:06, 72.4Mb/s]\rpytorch_model.bin:  56%|█████▌    | 531M/956M [00:07<00:06, 72.7Mb/s]\rpytorch_model.bin:  56%|█████▋    | 538M/956M [00:07<00:05, 73.2Mb/s]\rpytorch_model.bin:  57%|█████▋    | 545M/956M [00:07<00:05, 72.9Mb/s]\rpytorch_model.bin:  58%|█████▊    | 552M/956M [00:07<00:05, 72.3Mb/s]\rpytorch_model.bin:  58%|█████▊    | 559M/956M [00:08<00:05, 72.6Mb/s]\rpytorch_model.bin:  59%|█████▉    | 566M/956M [00:08<00:05, 73.1Mb/s]\rpytorch_model.bin:  60%|█████▉    | 573M/956M [00:08<00:05, 73.0Mb/s]\rpytorch_model.bin:  61%|██████    | 580M/956M [00:08<00:05, 72.6Mb/s]\rpytorch_model.bin:  61%|██████▏   | 587M/956M [00:08<00:05, 72.4Mb/s]\rpytorch_model.bin:  62%|██████▏   | 594M/956M [00:08<00:05, 73.3Mb/s]\rpytorch_model.bin:  63%|██████▎   | 601M/956M [00:08<00:05, 72.6Mb/s]\rpytorch_model.bin:  64%|██████▎   | 608M/956M [00:08<00:05, 71.3Mb/s]\rpytorch_model.bin:  64%|██████▍   | 616M/956M [00:08<00:04, 72.5Mb/s]\rpytorch_model.bin:  65%|██████▌   | 623M/956M [00:08<00:04, 72.5Mb/s]\rpytorch_model.bin:  66%|██████▌   | 630M/956M [00:09<00:04, 72.3Mb/s]\rpytorch_model.bin:  67%|██████▋   | 637M/956M [00:09<00:04, 72.0Mb/s]\rpytorch_model.bin:  67%|██████▋   | 644M/956M [00:09<00:04, 73.1Mb/s]\rpytorch_model.bin:  68%|██████▊   | 651M/956M [00:09<00:04, 73.2Mb/s]\rpytorch_model.bin:  69%|██████▉   | 658M/956M [00:09<00:04, 71.7Mb/s]\rpytorch_model.bin:  70%|██████▉   | 665M/956M [00:09<00:04, 72.3Mb/s]\rpytorch_model.bin:  70%|███████   | 672M/956M [00:09<00:04, 73.1Mb/s]\rpytorch_model.bin:  71%|███████   | 679M/956M [00:09<00:03, 73.1Mb/s]\rpytorch_model.bin:  72%|███████▏  | 686M/956M [00:09<00:03, 71.2Mb/s]\rpytorch_model.bin:  72%|███████▏  | 693M/956M [00:10<00:04, 68.0Mb/s]\rpytorch_model.bin:  73%|███████▎  | 702M/956M [00:10<00:03, 74.3Mb/s]\rpytorch_model.bin:  74%|███████▍  | 709M/956M [00:10<00:03, 73.5Mb/s]\rpytorch_model.bin:  75%|███████▍  | 716M/956M [00:10<00:03, 74.4Mb/s]\rpytorch_model.bin:  76%|███████▌  | 723M/956M [00:10<00:03, 73.5Mb/s]\rpytorch_model.bin:  76%|███████▋  | 730M/956M [00:10<00:03, 72.9Mb/s]\rpytorch_model.bin:  77%|███████▋  | 738M/956M [00:10<00:03, 71.9Mb/s]\rpytorch_model.bin:  78%|███████▊  | 745M/956M [00:10<00:03, 72.9Mb/s]\rpytorch_model.bin:  79%|███████▊  | 752M/956M [00:10<00:02, 73.2Mb/s]\rpytorch_model.bin:  79%|███████▉  | 759M/956M [00:10<00:02, 72.9Mb/s]\rpytorch_model.bin:  80%|████████  | 766M/956M [00:11<00:02, 70.9Mb/s]\rpytorch_model.bin:  81%|████████  | 773M/956M [00:11<00:02, 71.0Mb/s]\rpytorch_model.bin:  82%|████████▏ | 781M/956M [00:11<00:02, 70.4Mb/s]\rpytorch_model.bin:  83%|████████▎ | 789M/956M [00:11<00:02, 74.3Mb/s]\rpytorch_model.bin:  83%|████████▎ | 796M/956M [00:11<00:02, 73.8Mb/s]\rpytorch_model.bin:  84%|████████▍ | 803M/956M [00:11<00:02, 73.5Mb/s]\rpytorch_model.bin:  85%|████████▍ | 810M/956M [00:11<00:02, 73.6Mb/s]\rpytorch_model.bin:  85%|████████▌ | 818M/956M [00:11<00:01, 73.3Mb/s]\rpytorch_model.bin:  86%|████████▌ | 824M/956M [00:11<00:01, 73.3Mb/s]\rpytorch_model.bin:  87%|████████▋ | 832M/956M [00:11<00:01, 73.2Mb/s]\rpytorch_model.bin:  88%|████████▊ | 838M/956M [00:12<00:01, 73.1Mb/s]\rpytorch_model.bin:  88%|████████▊ | 846M/956M [00:12<00:01, 73.1Mb/s]\rpytorch_model.bin:  89%|████████▉ | 852M/956M [00:12<00:01, 72.7Mb/s]\rpytorch_model.bin:  90%|████████▉ | 860M/956M [00:12<00:01, 72.8Mb/s]\rpytorch_model.bin:  91%|█████████ | 866M/956M [00:12<00:01, 73.0Mb/s]\rpytorch_model.bin:  91%|█████████▏| 874M/956M [00:12<00:01, 72.9Mb/s]\rpytorch_model.bin:  92%|█████████▏| 880M/956M [00:12<00:01, 72.5Mb/s]\rpytorch_model.bin:  93%|█████████▎| 888M/956M [00:12<00:00, 72.9Mb/s]\rpytorch_model.bin:  94%|█████████▎| 895M/956M [00:12<00:00, 72.9Mb/s]\rpytorch_model.bin:  94%|█████████▍| 902M/956M [00:13<00:01, 39.3Mb/s]\rpytorch_model.bin:  95%|█████████▍| 907M/956M [00:13<00:01, 40.3Mb/s]\rpytorch_model.bin:  96%|█████████▌| 918M/956M [00:13<00:00, 54.4Mb/s]\rpytorch_model.bin:  97%|█████████▋| 925M/956M [00:13<00:00, 58.6Mb/s]\rpytorch_model.bin:  97%|█████████▋| 932M/956M [00:13<00:00, 61.9Mb/s]\rpytorch_model.bin:  98%|█████████▊| 938M/956M [00:13<00:00, 64.7Mb/s]\rpytorch_model.bin:  99%|█████████▉| 946M/956M [00:13<00:00, 66.9Mb/s]\rpytorch_model.bin: 100%|█████████▉| 952M/956M [00:14<00:00, 68.4Mb/s]\rpytorch_model.bin: 100%|██████████| 956M/956M [00:14<00:00, 71.2Mb/s]\n",
            "\rspecial_tokens_map.json:   0%|          | 0.00/96.0 [00:00<?, ?b/s]\rspecial_tokens_map.json: 100%|██████████| 96.0/96.0 [00:00<00:00, 444kb/s]\n",
            "\rtokenizer.json:   0%|          | 0.00/2.04M [00:00<?, ?b/s]\rtokenizer.json:  34%|███▎      | 704k/2.04M [00:00<00:00, 6.93Mb/s]\rtokenizer.json: 100%|██████████| 2.04M/2.04M [00:00<00:00, 11.2Mb/s]\n",
            "\rtokenizer_config.json:   0%|          | 0.00/106 [00:00<?, ?b/s]\rtokenizer_config.json: 100%|██████████| 106/106 [00:00<00:00, 726kb/s]\n",
            "INFO:     Started server process [818]\n",
            "INFO:     Waiting for application startup.\n",
            "/usr/local/lib/python3.10/dist-packages/torch/functional.py:504: UserWarning: torch.meshgrid: in an upcoming release, it will be required to pass the indexing argument. (Triggered internally at ../aten/src/ATen/native/TensorShape.cpp:3483.)\n",
            "  return _VF.meshgrid(tensors, **kwargs)  # type: ignore[attr-defined]\n",
            "INFO:     Application startup complete.\n",
            "INFO:     Uvicorn running on http://127.0.0.1:8503 (Press CTRL+C to quit)\n"
          ]
        }
      ]
    },
    {
      "cell_type": "code",
      "source": [
        "%%bash\n",
        "\n",
        "curl --location 'http://127.0.0.1:8503'"
      ],
      "metadata": {
        "colab": {
          "base_uri": "https://localhost:8080/"
        },
        "id": "HyP7d0jsfFl4",
        "outputId": "25990834-8c88-40cc-f518-11de97817a09"
      },
      "execution_count": null,
      "outputs": [
        {
          "output_type": "stream",
          "name": "stdout",
          "text": [
            "{\"status-code\":200,\"data\":{}}"
          ]
        },
        {
          "output_type": "stream",
          "name": "stderr",
          "text": [
            "  % Total    % Received % Xferd  Average Speed   Time    Time     Time  Current\n",
            "                                 Dload  Upload   Total   Spent    Left  Speed\n",
            "\r  0     0    0     0    0     0      0      0 --:--:-- --:--:-- --:--:--     0\r100    29  100    29    0     0   2849      0 --:--:-- --:--:-- --:--:--  3222\n"
          ]
        }
      ]
    },
    {
      "cell_type": "code",
      "source": [
        "#!npm install localtunnel"
      ],
      "metadata": {
        "id": "k5AvMb1_3kLr"
      },
      "execution_count": null,
      "outputs": []
    },
    {
      "cell_type": "code",
      "source": [
        "#!npx localtunnel --port 8503 & curl ipv4.icanhazip.com"
      ],
      "metadata": {
        "id": "qwqbIThI3r1c"
      },
      "execution_count": null,
      "outputs": []
    },
    {
      "cell_type": "code",
      "source": [
        "from pyngrok import ngrok, conf\n",
        "import getpass"
      ],
      "metadata": {
        "id": "PQQhO-SQ42zz"
      },
      "execution_count": null,
      "outputs": []
    },
    {
      "cell_type": "code",
      "source": [
        "print(\"Enter your auth token, which can be found on https://dashboard.ngrok.com/auth\")\n",
        "conf.get_default().auth_token = \"2WHGxDeUEsICGcY0auQa5SoDsQN_2rSwsbTU1XoLqmfahp4Ff\""
      ],
      "metadata": {
        "colab": {
          "base_uri": "https://localhost:8080/"
        },
        "id": "Dzuby--B5HWN",
        "outputId": "81555a49-3f90-424b-8b07-db55fea3fd41"
      },
      "execution_count": null,
      "outputs": [
        {
          "output_type": "stream",
          "name": "stdout",
          "text": [
            "Enter your auth token, which can be found on https://dashboard.ngrok.com/auth\n"
          ]
        }
      ]
    },
    {
      "cell_type": "code",
      "source": [
        "port = 8503\n",
        "public_url = ngrok.connect(port).public_url\n",
        "print(f\"Tunnel 'http://127.0.0.1:{port}' to '{public_url}'\")\n",
        "print(f\"Visit the SwaggerAPI doc on '{public_url}/docs'\")"
      ],
      "metadata": {
        "colab": {
          "base_uri": "https://localhost:8080/"
        },
        "id": "Oz6xwyYu5cJn",
        "outputId": "8d3f00ae-83fb-4a4c-a9fc-e064568a9342"
      },
      "execution_count": null,
      "outputs": [
        {
          "output_type": "stream",
          "name": "stdout",
          "text": []
        },
        {
          "output_type": "stream",
          "name": "stderr",
          "text": [
            "WARNING:pyngrok.process.ngrok:t=2023-10-04T01:22:53+0000 lvl=warn msg=\"ngrok config file found at legacy location, move to XDG location\" xdg_path=/root/.config/ngrok/ngrok.yml legacy_path=/root/.ngrok2/ngrok.yml\n"
          ]
        },
        {
          "output_type": "stream",
          "name": "stdout",
          "text": [
            "Tunnel 'http://127.0.0.1:8503' to 'https://0728-34-125-184-65.ngrok-free.app'\n",
            "Visit the SwaggerAPI doc on 'https://0728-34-125-184-65.ngrok-free.app/docs'\n"
          ]
        }
      ]
    }
  ]
}