{
  "nbformat": 4,
  "nbformat_minor": 0,
  "metadata": {
    "colab": {
      "provenance": []
    },
    "kernelspec": {
      "name": "python3",
      "display_name": "Python 3"
    },
    "language_info": {
      "name": "python"
    }
  },
  "cells": [
    {
      "cell_type": "code",
      "execution_count": 1,
      "metadata": {
        "colab": {
          "base_uri": "https://localhost:8080/"
        },
        "id": "YT6IGpKfMN6K",
        "outputId": "ee54795c-fc66-4c3d-ea20-7c7021893b75"
      },
      "outputs": [
        {
          "output_type": "stream",
          "name": "stdout",
          "text": [
            "Collecting great_expectations\n",
            "  Downloading great_expectations-0.17.21-py3-none-any.whl (5.4 MB)\n",
            "\u001b[2K     \u001b[90m━━━━━━━━━━━━━━━━━━━━━━━━━━━━━━━━━━━━━━━━\u001b[0m \u001b[32m5.4/5.4 MB\u001b[0m \u001b[31m36.9 MB/s\u001b[0m eta \u001b[36m0:00:00\u001b[0m\n",
            "\u001b[?25hRequirement already satisfied: altair<5.0.0,>=4.2.1 in /usr/local/lib/python3.10/dist-packages (from great_expectations) (4.2.2)\n",
            "Requirement already satisfied: Click!=8.1.4,>=7.1.2 in /usr/local/lib/python3.10/dist-packages (from great_expectations) (8.1.7)\n",
            "Collecting colorama>=0.4.3 (from great_expectations)\n",
            "  Downloading colorama-0.4.6-py2.py3-none-any.whl (25 kB)\n",
            "Requirement already satisfied: cryptography>=3.2 in /usr/local/lib/python3.10/dist-packages (from great_expectations) (41.0.4)\n",
            "Requirement already satisfied: Ipython>=7.16.3 in /usr/local/lib/python3.10/dist-packages (from great_expectations) (7.34.0)\n",
            "Requirement already satisfied: ipywidgets>=7.5.1 in /usr/local/lib/python3.10/dist-packages (from great_expectations) (7.7.1)\n",
            "Requirement already satisfied: jinja2>=2.10 in /usr/local/lib/python3.10/dist-packages (from great_expectations) (3.1.2)\n",
            "Collecting jsonpatch>=1.22 (from great_expectations)\n",
            "  Downloading jsonpatch-1.33-py2.py3-none-any.whl (12 kB)\n",
            "Requirement already satisfied: jsonschema>=2.5.1 in /usr/local/lib/python3.10/dist-packages (from great_expectations) (4.19.1)\n",
            "Collecting makefun<2,>=1.7.0 (from great_expectations)\n",
            "  Downloading makefun-1.15.1-py2.py3-none-any.whl (22 kB)\n",
            "Collecting marshmallow<4.0.0,>=3.7.1 (from great_expectations)\n",
            "  Downloading marshmallow-3.20.1-py3-none-any.whl (49 kB)\n",
            "\u001b[2K     \u001b[90m━━━━━━━━━━━━━━━━━━━━━━━━━━━━━━━━━━━━━━━━\u001b[0m \u001b[32m49.4/49.4 kB\u001b[0m \u001b[31m5.6 MB/s\u001b[0m eta \u001b[36m0:00:00\u001b[0m\n",
            "\u001b[?25hRequirement already satisfied: mistune>=0.8.4 in /usr/local/lib/python3.10/dist-packages (from great_expectations) (0.8.4)\n",
            "Requirement already satisfied: nbformat>=5.0 in /usr/local/lib/python3.10/dist-packages (from great_expectations) (5.9.2)\n",
            "Requirement already satisfied: notebook>=6.4.10 in /usr/local/lib/python3.10/dist-packages (from great_expectations) (6.5.5)\n",
            "Requirement already satisfied: packaging in /usr/local/lib/python3.10/dist-packages (from great_expectations) (23.2)\n",
            "Requirement already satisfied: pydantic>=1.9.2 in /usr/local/lib/python3.10/dist-packages (from great_expectations) (1.10.13)\n",
            "Requirement already satisfied: pyparsing>=2.4 in /usr/local/lib/python3.10/dist-packages (from great_expectations) (3.1.1)\n",
            "Requirement already satisfied: python-dateutil>=2.8.1 in /usr/local/lib/python3.10/dist-packages (from great_expectations) (2.8.2)\n",
            "Requirement already satisfied: pytz>=2021.3 in /usr/local/lib/python3.10/dist-packages (from great_expectations) (2023.3.post1)\n",
            "Requirement already satisfied: requests>=2.20 in /usr/local/lib/python3.10/dist-packages (from great_expectations) (2.31.0)\n",
            "Collecting ruamel.yaml<0.17.18,>=0.16 (from great_expectations)\n",
            "  Downloading ruamel.yaml-0.17.17-py3-none-any.whl (109 kB)\n",
            "\u001b[2K     \u001b[90m━━━━━━━━━━━━━━━━━━━━━━━━━━━━━━━━━━━━━━\u001b[0m \u001b[32m109.1/109.1 kB\u001b[0m \u001b[31m12.8 MB/s\u001b[0m eta \u001b[36m0:00:00\u001b[0m\n",
            "\u001b[?25hRequirement already satisfied: scipy>=1.6.0 in /usr/local/lib/python3.10/dist-packages (from great_expectations) (1.11.3)\n",
            "Requirement already satisfied: tqdm>=4.59.0 in /usr/local/lib/python3.10/dist-packages (from great_expectations) (4.66.1)\n",
            "Requirement already satisfied: typing-extensions>=3.10.0.0 in /usr/local/lib/python3.10/dist-packages (from great_expectations) (4.5.0)\n",
            "Requirement already satisfied: tzlocal>=1.2 in /usr/local/lib/python3.10/dist-packages (from great_expectations) (5.1)\n",
            "Requirement already satisfied: urllib3>=1.26 in /usr/local/lib/python3.10/dist-packages (from great_expectations) (2.0.6)\n",
            "Requirement already satisfied: numpy>=1.22.4 in /usr/local/lib/python3.10/dist-packages (from great_expectations) (1.23.5)\n",
            "Requirement already satisfied: pandas>=1.3.0 in /usr/local/lib/python3.10/dist-packages (from great_expectations) (1.5.3)\n",
            "Requirement already satisfied: entrypoints in /usr/local/lib/python3.10/dist-packages (from altair<5.0.0,>=4.2.1->great_expectations) (0.4)\n",
            "Requirement already satisfied: toolz in /usr/local/lib/python3.10/dist-packages (from altair<5.0.0,>=4.2.1->great_expectations) (0.12.0)\n",
            "Requirement already satisfied: cffi>=1.12 in /usr/local/lib/python3.10/dist-packages (from cryptography>=3.2->great_expectations) (1.16.0)\n",
            "Requirement already satisfied: setuptools>=18.5 in /usr/local/lib/python3.10/dist-packages (from Ipython>=7.16.3->great_expectations) (67.7.2)\n",
            "Collecting jedi>=0.16 (from Ipython>=7.16.3->great_expectations)\n",
            "  Downloading jedi-0.19.1-py2.py3-none-any.whl (1.6 MB)\n",
            "\u001b[2K     \u001b[90m━━━━━━━━━━━━━━━━━━━━━━━━━━━━━━━━━━━━━━━━\u001b[0m \u001b[32m1.6/1.6 MB\u001b[0m \u001b[31m73.4 MB/s\u001b[0m eta \u001b[36m0:00:00\u001b[0m\n",
            "\u001b[?25hRequirement already satisfied: decorator in /usr/local/lib/python3.10/dist-packages (from Ipython>=7.16.3->great_expectations) (4.4.2)\n",
            "Requirement already satisfied: pickleshare in /usr/local/lib/python3.10/dist-packages (from Ipython>=7.16.3->great_expectations) (0.7.5)\n",
            "Requirement already satisfied: traitlets>=4.2 in /usr/local/lib/python3.10/dist-packages (from Ipython>=7.16.3->great_expectations) (5.7.1)\n",
            "Requirement already satisfied: prompt-toolkit!=3.0.0,!=3.0.1,<3.1.0,>=2.0.0 in /usr/local/lib/python3.10/dist-packages (from Ipython>=7.16.3->great_expectations) (3.0.39)\n",
            "Requirement already satisfied: pygments in /usr/local/lib/python3.10/dist-packages (from Ipython>=7.16.3->great_expectations) (2.16.1)\n",
            "Requirement already satisfied: backcall in /usr/local/lib/python3.10/dist-packages (from Ipython>=7.16.3->great_expectations) (0.2.0)\n",
            "Requirement already satisfied: matplotlib-inline in /usr/local/lib/python3.10/dist-packages (from Ipython>=7.16.3->great_expectations) (0.1.6)\n",
            "Requirement already satisfied: pexpect>4.3 in /usr/local/lib/python3.10/dist-packages (from Ipython>=7.16.3->great_expectations) (4.8.0)\n",
            "Requirement already satisfied: ipykernel>=4.5.1 in /usr/local/lib/python3.10/dist-packages (from ipywidgets>=7.5.1->great_expectations) (5.5.6)\n",
            "Requirement already satisfied: ipython-genutils~=0.2.0 in /usr/local/lib/python3.10/dist-packages (from ipywidgets>=7.5.1->great_expectations) (0.2.0)\n",
            "Requirement already satisfied: widgetsnbextension~=3.6.0 in /usr/local/lib/python3.10/dist-packages (from ipywidgets>=7.5.1->great_expectations) (3.6.6)\n",
            "Requirement already satisfied: jupyterlab-widgets>=1.0.0 in /usr/local/lib/python3.10/dist-packages (from ipywidgets>=7.5.1->great_expectations) (3.0.9)\n",
            "Requirement already satisfied: MarkupSafe>=2.0 in /usr/local/lib/python3.10/dist-packages (from jinja2>=2.10->great_expectations) (2.1.3)\n",
            "Collecting jsonpointer>=1.9 (from jsonpatch>=1.22->great_expectations)\n",
            "  Downloading jsonpointer-2.4-py2.py3-none-any.whl (7.8 kB)\n",
            "Requirement already satisfied: attrs>=22.2.0 in /usr/local/lib/python3.10/dist-packages (from jsonschema>=2.5.1->great_expectations) (23.1.0)\n",
            "Requirement already satisfied: jsonschema-specifications>=2023.03.6 in /usr/local/lib/python3.10/dist-packages (from jsonschema>=2.5.1->great_expectations) (2023.7.1)\n",
            "Requirement already satisfied: referencing>=0.28.4 in /usr/local/lib/python3.10/dist-packages (from jsonschema>=2.5.1->great_expectations) (0.30.2)\n",
            "Requirement already satisfied: rpds-py>=0.7.1 in /usr/local/lib/python3.10/dist-packages (from jsonschema>=2.5.1->great_expectations) (0.10.3)\n",
            "Requirement already satisfied: fastjsonschema in /usr/local/lib/python3.10/dist-packages (from nbformat>=5.0->great_expectations) (2.18.1)\n",
            "Requirement already satisfied: jupyter-core in /usr/local/lib/python3.10/dist-packages (from nbformat>=5.0->great_expectations) (5.3.2)\n",
            "Requirement already satisfied: tornado>=6.1 in /usr/local/lib/python3.10/dist-packages (from notebook>=6.4.10->great_expectations) (6.3.2)\n",
            "Requirement already satisfied: pyzmq<25,>=17 in /usr/local/lib/python3.10/dist-packages (from notebook>=6.4.10->great_expectations) (23.2.1)\n",
            "Requirement already satisfied: argon2-cffi in /usr/local/lib/python3.10/dist-packages (from notebook>=6.4.10->great_expectations) (23.1.0)\n",
            "Requirement already satisfied: jupyter-client<8,>=5.3.4 in /usr/local/lib/python3.10/dist-packages (from notebook>=6.4.10->great_expectations) (6.1.12)\n",
            "Requirement already satisfied: nbconvert>=5 in /usr/local/lib/python3.10/dist-packages (from notebook>=6.4.10->great_expectations) (6.5.4)\n",
            "Requirement already satisfied: nest-asyncio>=1.5 in /usr/local/lib/python3.10/dist-packages (from notebook>=6.4.10->great_expectations) (1.5.8)\n",
            "Requirement already satisfied: Send2Trash>=1.8.0 in /usr/local/lib/python3.10/dist-packages (from notebook>=6.4.10->great_expectations) (1.8.2)\n",
            "Requirement already satisfied: terminado>=0.8.3 in /usr/local/lib/python3.10/dist-packages (from notebook>=6.4.10->great_expectations) (0.17.1)\n",
            "Requirement already satisfied: prometheus-client in /usr/local/lib/python3.10/dist-packages (from notebook>=6.4.10->great_expectations) (0.17.1)\n",
            "Requirement already satisfied: nbclassic>=0.4.7 in /usr/local/lib/python3.10/dist-packages (from notebook>=6.4.10->great_expectations) (1.0.0)\n",
            "Requirement already satisfied: six>=1.5 in /usr/local/lib/python3.10/dist-packages (from python-dateutil>=2.8.1->great_expectations) (1.16.0)\n",
            "Requirement already satisfied: charset-normalizer<4,>=2 in /usr/local/lib/python3.10/dist-packages (from requests>=2.20->great_expectations) (3.3.0)\n",
            "Requirement already satisfied: idna<4,>=2.5 in /usr/local/lib/python3.10/dist-packages (from requests>=2.20->great_expectations) (3.4)\n",
            "Requirement already satisfied: certifi>=2017.4.17 in /usr/local/lib/python3.10/dist-packages (from requests>=2.20->great_expectations) (2023.7.22)\n",
            "Requirement already satisfied: pycparser in /usr/local/lib/python3.10/dist-packages (from cffi>=1.12->cryptography>=3.2->great_expectations) (2.21)\n",
            "Requirement already satisfied: parso<0.9.0,>=0.8.3 in /usr/local/lib/python3.10/dist-packages (from jedi>=0.16->Ipython>=7.16.3->great_expectations) (0.8.3)\n",
            "Requirement already satisfied: platformdirs>=2.5 in /usr/local/lib/python3.10/dist-packages (from jupyter-core->nbformat>=5.0->great_expectations) (3.11.0)\n",
            "Requirement already satisfied: jupyter-server>=1.8 in /usr/local/lib/python3.10/dist-packages (from nbclassic>=0.4.7->notebook>=6.4.10->great_expectations) (1.24.0)\n",
            "Requirement already satisfied: notebook-shim>=0.2.3 in /usr/local/lib/python3.10/dist-packages (from nbclassic>=0.4.7->notebook>=6.4.10->great_expectations) (0.2.3)\n",
            "Requirement already satisfied: lxml in /usr/local/lib/python3.10/dist-packages (from nbconvert>=5->notebook>=6.4.10->great_expectations) (4.9.3)\n",
            "Requirement already satisfied: beautifulsoup4 in /usr/local/lib/python3.10/dist-packages (from nbconvert>=5->notebook>=6.4.10->great_expectations) (4.11.2)\n",
            "Requirement already satisfied: bleach in /usr/local/lib/python3.10/dist-packages (from nbconvert>=5->notebook>=6.4.10->great_expectations) (6.0.0)\n",
            "Requirement already satisfied: defusedxml in /usr/local/lib/python3.10/dist-packages (from nbconvert>=5->notebook>=6.4.10->great_expectations) (0.7.1)\n",
            "Requirement already satisfied: jupyterlab-pygments in /usr/local/lib/python3.10/dist-packages (from nbconvert>=5->notebook>=6.4.10->great_expectations) (0.2.2)\n",
            "Requirement already satisfied: nbclient>=0.5.0 in /usr/local/lib/python3.10/dist-packages (from nbconvert>=5->notebook>=6.4.10->great_expectations) (0.8.0)\n",
            "Requirement already satisfied: pandocfilters>=1.4.1 in /usr/local/lib/python3.10/dist-packages (from nbconvert>=5->notebook>=6.4.10->great_expectations) (1.5.0)\n",
            "Requirement already satisfied: tinycss2 in /usr/local/lib/python3.10/dist-packages (from nbconvert>=5->notebook>=6.4.10->great_expectations) (1.2.1)\n",
            "Requirement already satisfied: ptyprocess>=0.5 in /usr/local/lib/python3.10/dist-packages (from pexpect>4.3->Ipython>=7.16.3->great_expectations) (0.7.0)\n",
            "Requirement already satisfied: wcwidth in /usr/local/lib/python3.10/dist-packages (from prompt-toolkit!=3.0.0,!=3.0.1,<3.1.0,>=2.0.0->Ipython>=7.16.3->great_expectations) (0.2.8)\n",
            "Requirement already satisfied: argon2-cffi-bindings in /usr/local/lib/python3.10/dist-packages (from argon2-cffi->notebook>=6.4.10->great_expectations) (21.2.0)\n",
            "Requirement already satisfied: anyio<4,>=3.1.0 in /usr/local/lib/python3.10/dist-packages (from jupyter-server>=1.8->nbclassic>=0.4.7->notebook>=6.4.10->great_expectations) (3.7.1)\n",
            "Requirement already satisfied: websocket-client in /usr/local/lib/python3.10/dist-packages (from jupyter-server>=1.8->nbclassic>=0.4.7->notebook>=6.4.10->great_expectations) (1.6.3)\n",
            "Requirement already satisfied: soupsieve>1.2 in /usr/local/lib/python3.10/dist-packages (from beautifulsoup4->nbconvert>=5->notebook>=6.4.10->great_expectations) (2.5)\n",
            "Requirement already satisfied: webencodings in /usr/local/lib/python3.10/dist-packages (from bleach->nbconvert>=5->notebook>=6.4.10->great_expectations) (0.5.1)\n",
            "Requirement already satisfied: sniffio>=1.1 in /usr/local/lib/python3.10/dist-packages (from anyio<4,>=3.1.0->jupyter-server>=1.8->nbclassic>=0.4.7->notebook>=6.4.10->great_expectations) (1.3.0)\n",
            "Requirement already satisfied: exceptiongroup in /usr/local/lib/python3.10/dist-packages (from anyio<4,>=3.1.0->jupyter-server>=1.8->nbclassic>=0.4.7->notebook>=6.4.10->great_expectations) (1.1.3)\n",
            "Installing collected packages: makefun, ruamel.yaml, marshmallow, jsonpointer, jedi, colorama, jsonpatch, great_expectations\n",
            "Successfully installed colorama-0.4.6 great_expectations-0.17.21 jedi-0.19.1 jsonpatch-1.33 jsonpointer-2.4 makefun-1.15.1 marshmallow-3.20.1 ruamel.yaml-0.17.17\n"
          ]
        }
      ],
      "source": [
        "!pip3 install great_expectations\n",
        "# !pip install pyngrok\n",
        "import pandas as pd\n",
        "import great_expectations as gx"
      ]
    },
    {
      "cell_type": "code",
      "source": [],
      "metadata": {
        "id": "jrPZoH2pMa0D"
      },
      "execution_count": 4,
      "outputs": []
    },
    {
      "cell_type": "code",
      "source": [
        "!echo \"y\" | great_expectations init"
      ],
      "metadata": {
        "colab": {
          "base_uri": "https://localhost:8080/"
        },
        "id": "lDEmUVBUW9rm",
        "outputId": "825f7f8b-831a-4e4c-ca48-fdf797eee9db"
      },
      "execution_count": 7,
      "outputs": [
        {
          "output_type": "stream",
          "name": "stdout",
          "text": [
            "\u001b[36m\n",
            "  ___              _     ___                  _        _   _\n",
            " / __|_ _ ___ __ _| |_  | __|_ ___ __  ___ __| |_ __ _| |_(_)___ _ _  ___\n",
            "| (_ | '_/ -_) _` |  _| | _|\\ \\ / '_ \\/ -_) _|  _/ _` |  _| / _ \\ ' \\(_-<\n",
            " \\___|_| \\___\\__,_|\\__| |___/_\\_\\ .__/\\___\\__|\\__\\__,_|\\__|_\\___/_||_/__/\n",
            "                                |_|\n",
            "             ~ Always know what to expect from your data ~\n",
            "\u001b[0m\n",
            "Let's create a new Data Context to hold your project configuration.\n",
            "\n",
            "Great Expectations will create a new directory with the following structure:\n",
            "\n",
            "    great_expectations\n",
            "    |-- great_expectations.yml\n",
            "    |-- expectations\n",
            "    |-- checkpoints\n",
            "    |-- plugins\n",
            "    |-- .gitignore\n",
            "    |-- uncommitted\n",
            "        |-- config_variables.yml\n",
            "        |-- data_docs\n",
            "        |-- validations\n",
            "\n",
            "OK to proceed? [Y/n]: \n",
            "================================================================================\n",
            "\n",
            "\u001b[36mCongratulations! You are now ready to customize your Great Expectations configuration.\u001b[0m\n",
            "\n",
            "\u001b[36mYou can customize your configuration in many ways. Here are some examples:\u001b[0m\n",
            "\n",
            "  \u001b[36mUse the CLI to:\u001b[0m\n",
            "    - Run `\u001b[32mgreat_expectations datasource new\u001b[0m` to connect to your data.\n",
            "    - Run `\u001b[32mgreat_expectations checkpoint new <checkpoint_name>\u001b[0m` to bundle data with Expectation Suite(s) in a Checkpoint for later re-validation.\n",
            "    - Run `\u001b[32mgreat_expectations suite --help\u001b[0m` to create, edit, list, profile Expectation Suites.\n",
            "    - Run `\u001b[32mgreat_expectations docs --help\u001b[0m` to build and manage Data Docs sites.\n",
            "\n",
            "  \u001b[36mEdit your configuration in great_expectations.yml to:\u001b[0m\n",
            "    - Move Stores to the cloud\n",
            "    - Add Slack notifications, PagerDuty alerts, etc.\n",
            "    - Customize your Data Docs\n",
            "\n",
            "\u001b[36mPlease see our documentation for more configuration options!\u001b[0m\n",
            "\n",
            "\u001b[0m"
          ]
        }
      ]
    },
    {
      "cell_type": "code",
      "source": [
        "file_path = '/content/sample_orig_2022.txt'\n",
        "data = pd.DataFrame(columns=range(32))\n",
        "data = pd.read_csv(file_path,header = None, delimiter='|')\n",
        "data_mapping = [\n",
        "    'Credit_Score',\n",
        "    'First_Payment_Date',\n",
        "    'First_Time_Homebuyer_Flag',\n",
        "    'Maturity_Date',\n",
        "    'Metropolitan_Statistical_Area_(MSA)_Or_Metropolitan_Division',\n",
        "    'Mortgage_Insurance_Percentage_(MI_%)',\n",
        "    'Number_of_Units',\n",
        "    'Occupancy_Status',\n",
        "    'Original_Combined_Loan-to-Value_(CLTV)',\n",
        "    'Original_Debt-to-Income_(DTI)_Ratio',\n",
        "    'Original_UPB',\n",
        "    'Original_Loan-to-Value_(LTV)',\n",
        "    'Original_Interest_Rate',\n",
        "    'Channel',\n",
        "    'Prepayment_Penalty_Mortgage_(PPM)_Flag',\n",
        "    'Amortization_Type_(Formerly_Product_Type)',\n",
        "    'Property_State',\n",
        "    'Property_Type',\n",
        "    'Postal_Code',\n",
        "    'Loan_Sequence_Number',\n",
        "    'Loan_Purpose',\n",
        "    'Original_Loan_Term',\n",
        "    'Number_of_Borrowers',\n",
        "    'Seller_Name',\n",
        "    'Servicer_Name',\n",
        "    'Super_Conforming_Flag',\n",
        "    'Pre-HARP_Loan_Sequence_Number',\n",
        "    'Program_Indicator',\n",
        "    'HARP_Indicator',\n",
        "    'Property_Valuation_Method',\n",
        "    'Interest_Only_(I/O)_Indicator',\n",
        "    'Mortgage_Insurance_Cancellation_Indicator'\n",
        "]\n",
        "data.columns = data_mapping\n",
        "\n",
        "saved_datafile = data.to_csv('origination_data_file.csv', index=False)\n",
        "\n",
        "!echo \"y\" | great_expectations init\n",
        "\n",
        "my_df = gx.read_csv('/content/origination_data_file.csv')"
      ],
      "metadata": {
        "colab": {
          "base_uri": "https://localhost:8080/"
        },
        "id": "yK5tHnMdXUQm",
        "outputId": "55f5ef6d-fae4-42b8-ca04-9949a0852fce"
      },
      "execution_count": 10,
      "outputs": [
        {
          "output_type": "stream",
          "name": "stdout",
          "text": [
            "\u001b[36m\n",
            "  ___              _     ___                  _        _   _\n",
            " / __|_ _ ___ __ _| |_  | __|_ ___ __  ___ __| |_ __ _| |_(_)___ _ _  ___\n",
            "| (_ | '_/ -_) _` |  _| | _|\\ \\ / '_ \\/ -_) _|  _/ _` |  _| / _ \\ ' \\(_-<\n",
            " \\___|_| \\___\\__,_|\\__| |___/_\\_\\ .__/\\___\\__|\\__\\__,_|\\__|_\\___/_||_/__/\n",
            "                                |_|\n",
            "             ~ Always know what to expect from your data ~\n",
            "\u001b[0m\n",
            "This looks like an existing project that \u001b[32mappears complete!\u001b[0m You are \u001b[32mready to roll.\u001b[0m\n",
            "\n",
            "\u001b[0m"
          ]
        }
      ]
    },
    {
      "cell_type": "code",
      "source": [
        "%%writefile streamlit_partb_a.py\n",
        "\n",
        "\n",
        "\n",
        "#1\n",
        "my_df.expect_column_values_to_match_regex(\n",
        "    column=\"Credit_Score\",\n",
        "    regex=r'^(9999|[3-8]\\d{2})$',  # This regex matches either 9999 or values in the range [300, 850]\n",
        "    result_format=\"BASIC\"\n",
        ")\n",
        "#2\n",
        "my_df.expect_column_values_to_match_regex(\n",
        "    column =  \"First_Payment_Date\",\n",
        "    regex = r\"^(1999|20[0-2][0-9]|2023)(0[1-9]|1[0-2])$\",\n",
        "    result_format = \"BASIC\"\n",
        ")\n",
        "#3\n",
        "my_df.expect_column_values_to_be_in_set(\"First_Time_Homebuyer_Flag\",['Y','N','9'])\n",
        "#4\n",
        "my_df.expect_column_values_to_match_regex(\n",
        "    column =  \"Maturity_Date\",\n",
        "    regex = r\"^(1999|20[0-9][0-9])(0[1-9]|1[0-2])$\",\n",
        "    result_format = \"BASIC\"\n",
        "\n",
        ")\n",
        "#5\n",
        "my_df.expect_column_values_to_match_regex(\n",
        "    column = \"Metropolitan_Statistical_Area_(MSA)_Or_Metropolitan_Division\",\n",
        "    regex = r'^(\\d{5}|     )$',\n",
        "    mostly = 0.95,\n",
        "    result_format= \"BASIC\"\n",
        ")\n",
        "#6\n",
        "my_df.expect_column_values_to_match_regex(\n",
        "    column = \"Mortgage_Insurance_Percentage_(MI_%)\",\n",
        "    regex = r'^(0*([1-9]|[1-4][0-9]|5[0-5])|000|999)$',\n",
        "    result_format= \"BASIC\"\n",
        ")\n",
        "#7\n",
        "my_df.expect_column_values_to_match_regex(\n",
        "    column = \"Number_of_Units\",\n",
        "    regex = r'^(1|2|3|4|99)$',\n",
        "    result_format= \"BASIC\"\n",
        ")\n",
        "#8\n",
        "my_df.expect_column_values_to_match_regex(\n",
        "    column = \"Occupancy_Status\",\n",
        "    regex = r'^[PIS9]$',\n",
        "    result_format= \"BASIC\"\n",
        ")\n",
        "#9\n",
        "my_df.expect_column_values_to_match_regex(\n",
        "    column =  \"Original_Combined_Loan-to-Value_(CLTV)\",\n",
        "    regex = \"^([1-9][0-9]{0,2})$\",\n",
        "    result_format = \"BASIC\"\n",
        ")\n",
        "#10\n",
        "my_df.expect_column_values_to_match_regex(\n",
        "    column =  \"Original_Debt-to-Income_(DTI)_Ratio\",\n",
        "    regex = \"^([1-9]|[1-5][0-9]|6[0-5]|999)$\",\n",
        "    result_format = \"BASIC\"\n",
        ")\n",
        "#11\n",
        "my_df.expect_column_values_to_match_regex(\n",
        "    column =  \"Original_UPB\",\n",
        "    regex = \"^^(\\d{1,9}000|0)$\",\n",
        "    result_format = \"BASIC\"\n",
        ")\n",
        "#12\n",
        "my_df.expect_column_values_to_match_regex(\n",
        "    column =  \"Original_Loan-to-Value_(LTV)\",\n",
        "    regex = \"^([1-9][0-9]{0,2})$\",\n",
        "    result_format = \"BASIC\"\n",
        ")\n",
        "#13\n",
        "my_df.expect_column_values_to_match_regex(\n",
        "    column =  \"Original_Interest_Rate\",\n",
        "    regex = \"^\\d+(\\.\\d{1,3})?$\",\n",
        "    result_format = \"BASIC\"\n",
        ")\n",
        "\n",
        "#14\n",
        "my_df.expect_column_values_to_be_in_set(\"Channel\", ['R','B','C','T',9])\n",
        "#15\n",
        "my_df.expect_column_values_to_be_in_set(\"Prepayment_Penalty_Mortgage_(PPM)_Flag\", ['Y','N'])\n",
        "#16\n",
        "my_df.expect_column_values_to_be_in_set(\"Amortization_Type_(Formerly_Product_Type)\", ['FRM','ARM'])\n",
        "#17\n",
        "my_df.expect_column_values_to_be_in_set(\"Property_State\", ['AL','AK','AZ','AR','CA','CO','CT','DE','DC','FL','GA','HI','ID','IL','IN','IA','KS','KY','LA','ME','MD','MA','MI','MN','MS','MO','MT','NE','NV','NH','NJ','NM','NY','NC','ND','OH','OK','OR','PA','RI','SC','SD','TN','TX','UT','VT','VA','WA','WV','WI','WY'])\n",
        "\n",
        "#18\n",
        "my_df.expect_column_values_to_be_in_set(\"Property_Type\", ['CO','PU','MH','SF','CP',99])\n",
        "#19\n",
        "my_df.expect_column_values_to_match_regex(\n",
        "    column =  \"Postal_Code\",\n",
        "    regex = \"^(\\d{3}00|     )$\",\n",
        "    result_format = \"BASIC\"\n",
        ")\n",
        "\n",
        "#20\n",
        "my_df.expect_column_values_to_match_regex(\n",
        "    column =  \"Loan_Sequence_Number\",\n",
        "    regex = r'^[FA]\\d{2}[Q][1-4]\\d{7}$',\n",
        "    result_format = \"BASIC\"\n",
        ")\n",
        "#21\n",
        "my_df.expect_column_values_to_be_in_set(\"Loan_Purpose\", ['P','C','N','R',9])\n",
        "#22\n",
        "my_df.expect_column_values_to_match_regex(\n",
        "    column =  \"Original_Loan_Term\",\n",
        "    regex = \"^([1-9][0-9]{0,2})$\",\n",
        "    result_format = \"BASIC\"\n",
        ")\n",
        "#23\n",
        "my_df.expect_column_values_to_match_regex(\n",
        "    column =  \"Number_of_Borrowers\",\n",
        "    regex = \"^([1-9]|10)$\",\n",
        "    result_format = \"BASIC\"\n",
        ")\n",
        "#24\n",
        "\n",
        "my_df.expect_column_values_to_match_regex(\n",
        "    column =  \"Seller_Name\",\n",
        "    regex = \"^(Other Servicers|[A-Za-z\\s,.]{1,60})$\",\n",
        "    result_format = \"BASIC\"\n",
        ")\n",
        "\n",
        "#25\n",
        "my_df.expect_column_values_to_match_regex(\n",
        "    column =  \"Servicer_Name\",\n",
        "    regex = \"^(Other Servicers|[A-Za-z\\s,.]{1,60})$\",\n",
        "    result_format = \"BASIC\"\n",
        ")\n",
        "#26\n",
        "my_df.expect_column_values_to_be_in_set(\"Super_Conforming_Flag\", ['Y', ' '])\n",
        "#27\n",
        "my_df.expect_column_values_to_match_regex(\n",
        "    column =  \"Pre-HARP_Loan_Sequence_Number\",\n",
        "    regex = r'^[FA]\\d{2}[Q][1-4]\\d{7}$',\n",
        "    result_format = \"BASIC\"\n",
        ")\n",
        "#28\n",
        "my_df.expect_column_values_to_be_in_set(\"Program_Indicator\", ['H','F','R','9'])\n",
        "#29\n",
        "my_df.expect_column_values_to_match_regex(\n",
        "    column =  \"HARP_Indicator\",\n",
        "    regex = r'^(Y|)$',\n",
        "    result_format = \"BASIC\"\n",
        ")\n",
        "#30\n",
        "my_df.expect_column_values_to_be_in_set(\"Property_Valuation_Method\", [1,2,3,4,9])\n",
        "#31\n",
        "my_df.expect_column_values_to_be_in_set(\"Interest_Only_(I/O)_Indicator\", ['Y','N'])\n",
        "#32\n",
        "my_df.expect_column_values_to_be_in_set(\"Mortgage_Insurance_Cancellation_Indicator\", ['Y','N','7','9'])\n",
        "\n",
        "my_df.save_expectation_suite(filepath = \"/content/gx/expectations/my_suite.json\")\n",
        "\n",
        "results = my_df.validate()\n",
        "\n",
        "context = gx.data_context.DataContext(\"/content/gx\")\n",
        "context.build_data_docs()\n",
        "\n",
        "\n"
      ],
      "metadata": {
        "colab": {
          "base_uri": "https://localhost:8080/"
        },
        "id": "jfkRF_JZNBlq",
        "outputId": "7bf3dac5-e21a-4fd5-ee91-a928a99dfd91"
      },
      "execution_count": 11,
      "outputs": [
        {
          "output_type": "stream",
          "name": "stdout",
          "text": [
            "Overwriting streamlit_partb_a.py\n"
          ]
        }
      ]
    },
    {
      "cell_type": "code",
      "source": [
        "#1\n",
        "my_df.expect_column_values_to_match_regex(\n",
        "    column=\"Credit_Score\",\n",
        "    regex=r'^(9999|[3-8]\\d{2})$',  # This regex matches either 9999 or values in the range [300, 850]\n",
        "    result_format=\"BASIC\"\n",
        ")\n",
        "#2\n",
        "my_df.expect_column_values_to_match_regex(\n",
        "    column =  \"First_Payment_Date\",\n",
        "    regex = r\"^(1999|20[0-2][0-9]|2023)(0[1-9]|1[0-2])$\",\n",
        "    result_format = \"BASIC\"\n",
        ")\n",
        "#3\n",
        "my_df.expect_column_values_to_be_in_set(\"First_Time_Homebuyer_Flag\",['Y','N','9'])\n",
        "#4\n",
        "my_df.expect_column_values_to_match_regex(\n",
        "    column =  \"Maturity_Date\",\n",
        "    regex = r\"^(1999|20[0-9][0-9])(0[1-9]|1[0-2])$\",\n",
        "    result_format = \"BASIC\"\n",
        "\n",
        ")\n",
        "#5\n",
        "my_df.expect_column_values_to_match_regex(\n",
        "    column = \"Metropolitan_Statistical_Area_(MSA)_Or_Metropolitan_Division\",\n",
        "    regex = r'^(\\d{5}|     )$',\n",
        "    mostly = 0.95,\n",
        "    result_format= \"BASIC\"\n",
        ")\n",
        "#6\n",
        "my_df.expect_column_values_to_match_regex(\n",
        "    column = \"Mortgage_Insurance_Percentage_(MI_%)\",\n",
        "    regex = r'^(0*([1-9]|[1-4][0-9]|5[0-5])|000|999)$',\n",
        "    result_format= \"BASIC\"\n",
        ")\n",
        "#7\n",
        "my_df.expect_column_values_to_match_regex(\n",
        "    column = \"Number_of_Units\",\n",
        "    regex = r'^(1|2|3|4|99)$',\n",
        "    result_format= \"BASIC\"\n",
        ")\n",
        "#8\n",
        "my_df.expect_column_values_to_match_regex(\n",
        "    column = \"Occupancy_Status\",\n",
        "    regex = r'^[PIS9]$',\n",
        "    result_format= \"BASIC\"\n",
        ")\n",
        "#9\n",
        "my_df.expect_column_values_to_match_regex(\n",
        "    column =  \"Original_Combined_Loan-to-Value_(CLTV)\",\n",
        "    regex = \"^([1-9][0-9]{0,2})$\",\n",
        "    result_format = \"BASIC\"\n",
        ")\n",
        "#10\n",
        "my_df.expect_column_values_to_match_regex(\n",
        "    column =  \"Original_Debt-to-Income_(DTI)_Ratio\",\n",
        "    regex = \"^([1-9]|[1-5][0-9]|6[0-5]|999)$\",\n",
        "    result_format = \"BASIC\"\n",
        ")\n",
        "#11\n",
        "my_df.expect_column_values_to_match_regex(\n",
        "    column =  \"Original_UPB\",\n",
        "    regex = \"^^(\\d{1,9}000|0)$\",\n",
        "    result_format = \"BASIC\"\n",
        ")\n",
        "#12\n",
        "my_df.expect_column_values_to_match_regex(\n",
        "    column =  \"Original_Loan-to-Value_(LTV)\",\n",
        "    regex = \"^([1-9][0-9]{0,2})$\",\n",
        "    result_format = \"BASIC\"\n",
        ")\n",
        "#13\n",
        "my_df.expect_column_values_to_match_regex(\n",
        "    column =  \"Original_Interest_Rate\",\n",
        "    regex = \"^\\d+(\\.\\d{1,3})?$\",\n",
        "    result_format = \"BASIC\"\n",
        ")\n",
        "\n",
        "#14\n",
        "my_df.expect_column_values_to_be_in_set(\"Channel\", ['R','B','C','T',9])\n",
        "#15\n",
        "my_df.expect_column_values_to_be_in_set(\"Prepayment_Penalty_Mortgage_(PPM)_Flag\", ['Y','N'])\n",
        "#16\n",
        "my_df.expect_column_values_to_be_in_set(\"Amortization_Type_(Formerly_Product_Type)\", ['FRM','ARM'])\n",
        "#17\n",
        "my_df.expect_column_values_to_be_in_set(\"Property_State\", ['AL','AK','AZ','AR','CA','CO','CT','DE','DC','FL','GA','HI','ID','IL','IN','IA','KS','KY','LA','ME','MD','MA','MI','MN','MS','MO','MT','NE','NV','NH','NJ','NM','NY','NC','ND','OH','OK','OR','PA','RI','SC','SD','TN','TX','UT','VT','VA','WA','WV','WI','WY'])\n",
        "\n",
        "#18\n",
        "my_df.expect_column_values_to_be_in_set(\"Property_Type\", ['CO','PU','MH','SF','CP',99])\n",
        "#19\n",
        "my_df.expect_column_values_to_match_regex(\n",
        "    column =  \"Postal_Code\",\n",
        "    regex = \"^(\\d{3}00|     )$\",\n",
        "    result_format = \"BASIC\"\n",
        ")\n",
        "\n",
        "#20\n",
        "my_df.expect_column_values_to_match_regex(\n",
        "    column =  \"Loan_Sequence_Number\",\n",
        "    regex = r'^[FA]\\d{2}[Q][1-4]\\d{7}$',\n",
        "    result_format = \"BASIC\"\n",
        ")\n",
        "#21\n",
        "my_df.expect_column_values_to_be_in_set(\"Loan_Purpose\", ['P','C','N','R',9])\n",
        "#22\n",
        "my_df.expect_column_values_to_match_regex(\n",
        "    column =  \"Original_Loan_Term\",\n",
        "    regex = \"^([1-9][0-9]{0,2})$\",\n",
        "    result_format = \"BASIC\"\n",
        ")\n",
        "#23\n",
        "my_df.expect_column_values_to_match_regex(\n",
        "    column =  \"Number_of_Borrowers\",\n",
        "    regex = \"^([1-9]|10)$\",\n",
        "    result_format = \"BASIC\"\n",
        ")\n",
        "#24\n",
        "\n",
        "my_df.expect_column_values_to_match_regex(\n",
        "    column =  \"Seller_Name\",\n",
        "    regex = \"^(Other Servicers|[A-Za-z\\s,.]{1,60})$\",\n",
        "    result_format = \"BASIC\"\n",
        ")\n",
        "\n",
        "#25\n",
        "my_df.expect_column_values_to_match_regex(\n",
        "    column =  \"Servicer_Name\",\n",
        "    regex = \"^(Other Servicers|[A-Za-z\\s,.]{1,60})$\",\n",
        "    result_format = \"BASIC\"\n",
        ")\n",
        "#26\n",
        "my_df.expect_column_values_to_be_in_set(\"Super_Conforming_Flag\", ['Y', ' '])\n",
        "#27\n",
        "my_df.expect_column_values_to_match_regex(\n",
        "    column =  \"Pre-HARP_Loan_Sequence_Number\",\n",
        "    regex = r'^[FA]\\d{2}[Q][1-4]\\d{7}$',\n",
        "    result_format = \"BASIC\"\n",
        ")\n",
        "#28\n",
        "my_df.expect_column_values_to_be_in_set(\"Program_Indicator\", ['H','F','R','9'])\n",
        "#29\n",
        "my_df.expect_column_values_to_match_regex(\n",
        "    column =  \"HARP_Indicator\",\n",
        "    regex = r'^(Y|)$',\n",
        "    result_format = \"BASIC\"\n",
        ")\n",
        "#30\n",
        "my_df.expect_column_values_to_be_in_set(\"Property_Valuation_Method\", [1,2,3,4,9])\n",
        "#31\n",
        "my_df.expect_column_values_to_be_in_set(\"Interest_Only_(I/O)_Indicator\", ['Y','N'])\n",
        "#32\n",
        "my_df.expect_column_values_to_be_in_set(\"Mortgage_Insurance_Cancellation_Indicator\", ['Y','N','7','9'])\n"
      ],
      "metadata": {
        "colab": {
          "base_uri": "https://localhost:8080/"
        },
        "id": "K-hi6b-6NONd",
        "outputId": "a8760741-32f4-4b70-cf0d-97821d805732"
      },
      "execution_count": 14,
      "outputs": [
        {
          "output_type": "stream",
          "name": "stderr",
          "text": [
            "WARNING:py.warnings:<>:62: DeprecationWarning: invalid escape sequence '\\d'\n",
            "\n",
            "WARNING:py.warnings:<>:74: DeprecationWarning: invalid escape sequence '\\d'\n",
            "\n",
            "WARNING:py.warnings:<>:92: DeprecationWarning: invalid escape sequence '\\d'\n",
            "\n",
            "WARNING:py.warnings:<>:120: DeprecationWarning: invalid escape sequence '\\s'\n",
            "\n",
            "WARNING:py.warnings:<>:127: DeprecationWarning: invalid escape sequence '\\s'\n",
            "\n",
            "WARNING:py.warnings:<>:62: DeprecationWarning: invalid escape sequence '\\d'\n",
            "\n",
            "WARNING:py.warnings:<>:74: DeprecationWarning: invalid escape sequence '\\d'\n",
            "\n",
            "WARNING:py.warnings:<>:92: DeprecationWarning: invalid escape sequence '\\d'\n",
            "\n",
            "WARNING:py.warnings:<>:120: DeprecationWarning: invalid escape sequence '\\s'\n",
            "\n",
            "WARNING:py.warnings:<>:127: DeprecationWarning: invalid escape sequence '\\s'\n",
            "\n",
            "WARNING:py.warnings:<ipython-input-14-f0bd4db9e71b>:62: DeprecationWarning: invalid escape sequence '\\d'\n",
            "  regex = \"^^(\\d{1,9}000|0)$\",\n",
            "\n",
            "WARNING:py.warnings:<ipython-input-14-f0bd4db9e71b>:74: DeprecationWarning: invalid escape sequence '\\d'\n",
            "  regex = \"^\\d+(\\.\\d{1,3})?$\",\n",
            "\n",
            "WARNING:py.warnings:<ipython-input-14-f0bd4db9e71b>:92: DeprecationWarning: invalid escape sequence '\\d'\n",
            "  regex = \"^(\\d{3}00|     )$\",\n",
            "\n",
            "WARNING:py.warnings:<ipython-input-14-f0bd4db9e71b>:120: DeprecationWarning: invalid escape sequence '\\s'\n",
            "  regex = \"^(Other Servicers|[A-Za-z\\s,.]{1,60})$\",\n",
            "\n",
            "WARNING:py.warnings:<ipython-input-14-f0bd4db9e71b>:127: DeprecationWarning: invalid escape sequence '\\s'\n",
            "  regex = \"^(Other Servicers|[A-Za-z\\s,.]{1,60})$\",\n",
            "\n",
            "WARNING:py.warnings:/usr/local/lib/python3.10/dist-packages/great_expectations/dataset/pandas_dataset.py:1386: UserWarning: This pattern is interpreted as a regular expression, and has match groups. To actually get the groups, use str.extract.\n",
            "  return column.astype(str).str.contains(regex)\n",
            "\n"
          ]
        },
        {
          "output_type": "execute_result",
          "data": {
            "text/plain": [
              "{\n",
              "  \"success\": true,\n",
              "  \"expectation_config\": {\n",
              "    \"expectation_type\": \"expect_column_values_to_be_in_set\",\n",
              "    \"kwargs\": {\n",
              "      \"column\": \"Mortgage_Insurance_Cancellation_Indicator\",\n",
              "      \"value_set\": [\n",
              "        \"Y\",\n",
              "        \"N\",\n",
              "        \"7\",\n",
              "        \"9\"\n",
              "      ],\n",
              "      \"result_format\": \"BASIC\"\n",
              "    },\n",
              "    \"meta\": {}\n",
              "  },\n",
              "  \"result\": {\n",
              "    \"element_count\": 50000,\n",
              "    \"missing_count\": 0,\n",
              "    \"missing_percent\": 0.0,\n",
              "    \"unexpected_count\": 0,\n",
              "    \"unexpected_percent\": 0.0,\n",
              "    \"unexpected_percent_total\": 0.0,\n",
              "    \"unexpected_percent_nonmissing\": 0.0,\n",
              "    \"partial_unexpected_list\": []\n",
              "  },\n",
              "  \"meta\": {},\n",
              "  \"exception_info\": {\n",
              "    \"raised_exception\": false,\n",
              "    \"exception_traceback\": null,\n",
              "    \"exception_message\": null\n",
              "  }\n",
              "}"
            ]
          },
          "metadata": {},
          "execution_count": 14
        }
      ]
    },
    {
      "cell_type": "code",
      "source": [
        "my_df.save_expectation_suite(filepath = \"/content/gx/expectations/my_suite.json\")"
      ],
      "metadata": {
        "id": "HZ4BLULvNVsB"
      },
      "execution_count": 15,
      "outputs": []
    },
    {
      "cell_type": "code",
      "source": [
        "results = my_df.validate()"
      ],
      "metadata": {
        "id": "4XJiNLfANZ51"
      },
      "execution_count": 16,
      "outputs": []
    },
    {
      "cell_type": "code",
      "source": [
        "context = gx.data_context.DataContext(\"/content/gx\")\n",
        "context.build_data_docs()\n"
      ],
      "metadata": {
        "colab": {
          "base_uri": "https://localhost:8080/"
        },
        "id": "KXnyQY6EORLe",
        "outputId": "86bea532-4470-43dd-e2ab-208b7e851348"
      },
      "execution_count": 17,
      "outputs": [
        {
          "output_type": "stream",
          "name": "stderr",
          "text": [
            "WARNING:py.warnings:/usr/local/lib/python3.10/dist-packages/great_expectations/data_context/data_context/base_data_context.py:158: DeprecationWarning: DataContext and BaseDataContext are deprecated as of v0.17.10 and will be removed in v0.20. Please use gx.get_context instead.\n",
            "  warnings.warn(\n",
            "\n"
          ]
        },
        {
          "output_type": "execute_result",
          "data": {
            "text/plain": [
              "{'local_site': 'file:///content/gx/uncommitted/data_docs/local_site/index.html'}"
            ]
          },
          "metadata": {},
          "execution_count": 17
        }
      ]
    },
    {
      "cell_type": "markdown",
      "source": [
        "## ngrock"
      ],
      "metadata": {
        "id": "DJytyslGQ9FL"
      }
    },
    {
      "cell_type": "code",
      "source": [
        "!wget https://bin.equinox.io/c/4VmDzA7iaHb/ngrok-stable-linux-amd64.zip\n",
        "!unzip ngrok-stable-linux-amd64.zip"
      ],
      "metadata": {
        "colab": {
          "base_uri": "https://localhost:8080/"
        },
        "id": "qwXvI7WuPbBb",
        "outputId": "1ef0131d-26ae-47d9-8b1d-e56b4c33bed8"
      },
      "execution_count": 21,
      "outputs": [
        {
          "output_type": "stream",
          "name": "stdout",
          "text": [
            "--2023-10-06 18:27:14--  https://bin.equinox.io/c/4VmDzA7iaHb/ngrok-stable-linux-amd64.zip\n",
            "Resolving bin.equinox.io (bin.equinox.io)... 54.237.133.81, 52.202.168.65, 54.161.241.46, ...\n",
            "Connecting to bin.equinox.io (bin.equinox.io)|54.237.133.81|:443... connected.\n",
            "HTTP request sent, awaiting response... 200 OK\n",
            "Length: 13921656 (13M) [application/octet-stream]\n",
            "Saving to: ‘ngrok-stable-linux-amd64.zip’\n",
            "\n",
            "ngrok-stable-linux- 100%[===================>]  13.28M  39.6MB/s    in 0.3s    \n",
            "\n",
            "2023-10-06 18:27:15 (39.6 MB/s) - ‘ngrok-stable-linux-amd64.zip’ saved [13921656/13921656]\n",
            "\n",
            "Archive:  ngrok-stable-linux-amd64.zip\n",
            "  inflating: ngrok                   \n"
          ]
        }
      ]
    },
    {
      "cell_type": "code",
      "source": [
        "get_ipython().system_raw('python3 -m http.server 8000 &')\n"
      ],
      "metadata": {
        "id": "197rfgQ6PmWY"
      },
      "execution_count": 22,
      "outputs": []
    },
    {
      "cell_type": "code",
      "source": [
        "get_ipython().system_raw('./ngrok http 8000 &')\n"
      ],
      "metadata": {
        "id": "zpygLBsZPoq6"
      },
      "execution_count": 23,
      "outputs": []
    },
    {
      "cell_type": "code",
      "source": [
        "!curl -s http://localhost:4040/api/tunnels | python3 -c \\\n",
        "    \"import sys, json; print(json.load(sys.stdin)['tunnels'][0]['public_url'])\"\n"
      ],
      "metadata": {
        "colab": {
          "base_uri": "https://localhost:8080/"
        },
        "id": "4XPWxWs4PqpK",
        "outputId": "7ac8b5b5-62af-4760-9f4a-4fba7a48a6fc"
      },
      "execution_count": 26,
      "outputs": [
        {
          "output_type": "stream",
          "name": "stdout",
          "text": [
            "http://1e41-34-16-27-145.ngrok.io\n"
          ]
        }
      ]
    },
    {
      "cell_type": "markdown",
      "source": [
        "**TUNNEL**"
      ],
      "metadata": {
        "id": "yPV6TfwHQ_eV"
      }
    },
    {
      "cell_type": "code",
      "source": [
        "!run streamlit_partb_a.py &>/content/logs.txt &"
      ],
      "metadata": {
        "id": "iU3epyWRRLI7"
      },
      "execution_count": 12,
      "outputs": []
    },
    {
      "cell_type": "code",
      "source": [
        "!pip install -q pyngrok\n",
        "from pyngrok import ngrok, conf\n",
        "import getpass"
      ],
      "metadata": {
        "id": "_JUxXkCtSXDB"
      },
      "execution_count": 13,
      "outputs": []
    },
    {
      "cell_type": "code",
      "source": [
        "print(\"Enter your auth token, which can be found on https://dashboard.ngrok.com/auth\")\n",
        "conf.get_default().auth_token = \"2WOxuAtURnuxUFfWKpaJP5mk7Vw_5fV569CwqTsYjHSmdEwS5\""
      ],
      "metadata": {
        "colab": {
          "base_uri": "https://localhost:8080/"
        },
        "id": "M3Volii7SaAQ",
        "outputId": "1df52eec-9b35-4657-f0f2-d34cb5aab156"
      },
      "execution_count": 5,
      "outputs": [
        {
          "output_type": "stream",
          "name": "stdout",
          "text": [
            "Enter your auth token, which can be found on https://dashboard.ngrok.com/auth\n"
          ]
        }
      ]
    },
    {
      "cell_type": "code",
      "source": [
        "port = 4040\n",
        "public_url = ngrok.connect(port).public_url\n",
        "print(f\"Tunnel 'http://127.0.0.1:{port}' to '{public_url}'\")\n",
        "print(f\"Visit the SwaggerAPI doc on '{public_url}/docs'\")"
      ],
      "metadata": {
        "colab": {
          "base_uri": "https://localhost:8080/"
        },
        "id": "pE1LoFb8Sx-S",
        "outputId": "5feea54e-e6e6-4e6c-c3d2-2aad190332b8"
      },
      "execution_count": 6,
      "outputs": [
        {
          "output_type": "stream",
          "name": "stdout",
          "text": []
        },
        {
          "output_type": "stream",
          "name": "stderr",
          "text": [
            "WARNING:pyngrok.process.ngrok:t=2023-10-06T18:58:21+0000 lvl=warn msg=\"ngrok config file found at legacy location, move to XDG location\" xdg_path=/root/.config/ngrok/ngrok.yml legacy_path=/root/.ngrok2/ngrok.yml\n"
          ]
        },
        {
          "output_type": "stream",
          "name": "stdout",
          "text": [
            "Tunnel 'http://127.0.0.1:4040' to 'https://c2a3-34-148-9-224.ngrok-free.app'\n",
            "Visit the SwaggerAPI doc on 'https://c2a3-34-148-9-224.ngrok-free.app/docs'\n"
          ]
        }
      ]
    },
    {
      "cell_type": "code",
      "source": [],
      "metadata": {
        "id": "0sfEiHSdS4J5"
      },
      "execution_count": null,
      "outputs": []
    }
  ]
}